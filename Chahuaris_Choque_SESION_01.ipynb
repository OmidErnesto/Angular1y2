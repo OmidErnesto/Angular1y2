{
  "nbformat": 4,
  "nbformat_minor": 0,
  "metadata": {
    "colab": {
      "name": "Chahuaris_Choque_SESION_01",
      "provenance": [],
      "collapsed_sections": [],
      "include_colab_link": true
    },
    "kernelspec": {
      "name": "ir",
      "display_name": "R"
    }
  },
  "cells": [
    {
      "cell_type": "markdown",
      "metadata": {
        "id": "view-in-github",
        "colab_type": "text"
      },
      "source": [
        "<a href=\"https://colab.research.google.com/github/OmidErnesto/Angular1y2/blob/master/Chahuaris_Choque_SESION_01.ipynb\" target=\"_parent\"><img src=\"https://colab.research.google.com/assets/colab-badge.svg\" alt=\"Open In Colab\"/></a>"
      ]
    },
    {
      "cell_type": "markdown",
      "metadata": {
        "id": "4PKPJacwfK4g"
      },
      "source": [
        "<img src=\"https://drive.google.com/uc?export=view&id=1LQG2kIZUit-eMpqB7Q9YFt5UQjbeemeo\" width=\"100\"> \n",
        "\n",
        "$\\tiny{Universidad \\ Nacional \\ de \\ San \\ Agustín \\ de \\ Arequipa \\\\\n",
        "Facultad \\ de \\ Ciencias \\ Naturales \\ y \\ Formales\\\\\n",
        "Departamento \\ Acad\\acute{e}\n",
        "mico \\ de \\ Estad\\acute{i}stica}$\n",
        "\n",
        "\n",
        "\n",
        "---\n"
      ]
    },
    {
      "cell_type": "markdown",
      "metadata": {
        "id": "cRuX0zJ4numC"
      },
      "source": [
        "# <center>  $Primera \\ Unidad$\n",
        "### <center> $Organizaci\\acute{o}n \\ de \\ la \\ informaci\\acute{o}n$"
      ]
    },
    {
      "cell_type": "markdown",
      "metadata": {
        "id": "sSBzauLQnjQ9"
      },
      "source": [
        "**Sesión de Laboratorio 01 :** Entorno del lenguaje R\n",
        "\n",
        "**Escuela Profesional:** Ingenieria de Sistemas\n",
        "\n",
        "**Profesor:** Esther Yanet Yanapa Zapana\n",
        "\n",
        "**Alumno** Omid Ernesto Chahuaris Choque\n"
      ]
    },
    {
      "cell_type": "markdown",
      "metadata": {
        "id": "1QAM5YJ1n220"
      },
      "source": [
        "\n",
        "**I.\tObjetivos**\n",
        "\n",
        "\n",
        "* Manipular los operadores del lenguaje R\n",
        "* Distinguir y operar con distintos tipos de variable\n",
        "* Utilizar Funciones básicas\n",
        "\n",
        "\n",
        "**II. Contenido teórico**\n",
        "\n",
        "* Operadores aritméticos\n",
        "* Operadores lógicos\n",
        "* operadores de relación\n",
        "* Funciones matemáticas\n",
        "* Tipos de variable\n",
        "* Operaciones con vectores\n",
        "* Graficas de una función\n",
        "\n",
        "**III. Equipos y materiales**\n",
        "\n",
        "* Equipos y dispositivos: Computador personal \n",
        "\n",
        "* Software: R, R-studio, Google Colab\n",
        "\n",
        "\n",
        "**IV. Actividades**\n",
        "\n",
        "* Manipular los operadores \n",
        "* Graficar una función"
      ]
    },
    {
      "cell_type": "markdown",
      "metadata": {
        "id": "FqWP736eI1BR"
      },
      "source": [
        "***\n",
        "***"
      ]
    },
    {
      "cell_type": "markdown",
      "metadata": {
        "id": "ymxlicoBrmru"
      },
      "source": [
        "## **Operadores aritméticos**\n",
        "\n",
        "**Suma:** +\n",
        "\n",
        "**Resta:** -\n",
        "\n",
        "**Producto:** *\n",
        "\n",
        "**Cociente:** /\n",
        "\n",
        "**Potencia:** ^\n",
        "\n",
        "## **Operadores  lógicos y de relación**\n",
        "\n",
        "**Igual:** ==\n",
        "\n",
        "**Diferente:** !=\n",
        "\n",
        "**∧:** \\ &\n",
        "\n",
        "**∨:** \\ |\n",
        "\n",
        "<  ;  > ;  <=  ;  >=\n",
        "\n"
      ]
    },
    {
      "cell_type": "markdown",
      "metadata": {
        "id": "6k9jsov_Iv9p"
      },
      "source": [
        "***\n",
        "***"
      ]
    },
    {
      "cell_type": "markdown",
      "metadata": {
        "id": "uU31K43Jsqxz"
      },
      "source": [
        "## **Ejemplos** "
      ]
    },
    {
      "cell_type": "markdown",
      "metadata": {
        "id": "RHnyh-___jTd"
      },
      "source": [
        "## **Operadores aritméticos**"
      ]
    },
    {
      "cell_type": "code",
      "metadata": {
        "colab": {
          "base_uri": "https://localhost:8080/",
          "height": 35
        },
        "id": "NBLtTF5lAotn",
        "outputId": "08a47512-4420-4ebf-cd66-adc561890ee2"
      },
      "source": [
        "5*8"
      ],
      "execution_count": null,
      "outputs": [
        {
          "output_type": "display_data",
          "data": {
            "text/plain": [
              "[1] 40"
            ],
            "text/latex": "40",
            "text/markdown": "40",
            "text/html": [
              "40"
            ]
          },
          "metadata": {}
        }
      ]
    },
    {
      "cell_type": "code",
      "metadata": {
        "id": "_ppCNUmf6XY8",
        "colab": {
          "base_uri": "https://localhost:8080/",
          "height": 35
        },
        "outputId": "21c9d708-7517-452a-e370-23b236f9d4c9"
      },
      "source": [
        "2^5"
      ],
      "execution_count": null,
      "outputs": [
        {
          "output_type": "display_data",
          "data": {
            "text/plain": [
              "[1] 32"
            ],
            "text/latex": "32",
            "text/markdown": "32",
            "text/html": [
              "32"
            ]
          },
          "metadata": {
            "tags": []
          }
        }
      ]
    },
    {
      "cell_type": "code",
      "metadata": {
        "id": "TOpYYRCNl5YL",
        "colab": {
          "base_uri": "https://localhost:8080/",
          "height": 35
        },
        "outputId": "d3d645d9-d8e0-4e9c-f1a8-3c382ba6668c"
      },
      "source": [
        "2+9"
      ],
      "execution_count": null,
      "outputs": [
        {
          "output_type": "display_data",
          "data": {
            "text/plain": [
              "[1] 11"
            ],
            "text/latex": "11",
            "text/markdown": "11",
            "text/html": [
              "11"
            ]
          },
          "metadata": {}
        }
      ]
    },
    {
      "cell_type": "code",
      "metadata": {
        "colab": {
          "base_uri": "https://localhost:8080/",
          "height": 35
        },
        "id": "G9cTylujAyhy",
        "outputId": "75c72f29-dcf0-435e-aedb-2724aaa7c534"
      },
      "source": [
        "2/7"
      ],
      "execution_count": null,
      "outputs": [
        {
          "output_type": "display_data",
          "data": {
            "text/plain": [
              "[1] 0.2857143"
            ],
            "text/latex": "0.285714285714286",
            "text/markdown": "0.285714285714286",
            "text/html": [
              "0.285714285714286"
            ]
          },
          "metadata": {}
        }
      ]
    },
    {
      "cell_type": "code",
      "metadata": {
        "id": "oIpaX4XmDQIC",
        "colab": {
          "base_uri": "https://localhost:8080/",
          "height": 35
        },
        "outputId": "533b7ea6-180f-4d0c-fd2a-d13ccacb20db"
      },
      "source": [
        "5/0"
      ],
      "execution_count": null,
      "outputs": [
        {
          "output_type": "display_data",
          "data": {
            "text/plain": [
              "[1] Inf"
            ],
            "text/latex": "Inf",
            "text/markdown": "Inf",
            "text/html": [
              "Inf"
            ]
          },
          "metadata": {}
        }
      ]
    },
    {
      "cell_type": "code",
      "metadata": {
        "colab": {
          "base_uri": "https://localhost:8080/",
          "height": 35
        },
        "id": "D8YC7PgCAv3G",
        "outputId": "d17f59ce-d6f9-44e0-c353-25f59d1c01ed"
      },
      "source": [
        "(4-4)/(7-7)"
      ],
      "execution_count": null,
      "outputs": [
        {
          "output_type": "display_data",
          "data": {
            "text/plain": [
              "[1] NaN"
            ],
            "text/latex": "NaN",
            "text/markdown": "NaN",
            "text/html": [
              "NaN"
            ]
          },
          "metadata": {}
        }
      ]
    },
    {
      "cell_type": "markdown",
      "metadata": {
        "id": "gfiVokZrHaaS"
      },
      "source": [
        "***\n",
        "Práctica\n",
        "\n",
        "Hallar 2+4^2/5-12"
      ]
    },
    {
      "cell_type": "code",
      "metadata": {
        "id": "-6OA2eXLHZCp",
        "colab": {
          "base_uri": "https://localhost:8080/",
          "height": 34
        },
        "outputId": "09da660d-77a6-42ca-e8eb-d4166769b609"
      },
      "source": [
        "2+4^2/5-12"
      ],
      "execution_count": 1,
      "outputs": [
        {
          "output_type": "display_data",
          "data": {
            "text/html": [
              "-6.8"
            ],
            "text/markdown": "-6.8",
            "text/latex": "-6.8",
            "text/plain": [
              "[1] -6.8"
            ]
          },
          "metadata": {}
        }
      ]
    },
    {
      "cell_type": "markdown",
      "metadata": {
        "id": "A4s9ok_l_yNh"
      },
      "source": [
        "## **Operadores lógicos y de relación**"
      ]
    },
    {
      "cell_type": "code",
      "metadata": {
        "colab": {
          "base_uri": "https://localhost:8080/",
          "height": 35
        },
        "id": "P5Q1K2h1_7O7",
        "outputId": "b197197c-2c73-4087-9b98-96dc9f74c9fc"
      },
      "source": [
        "1==7"
      ],
      "execution_count": null,
      "outputs": [
        {
          "output_type": "display_data",
          "data": {
            "text/plain": [
              "[1] FALSE"
            ],
            "text/latex": "FALSE",
            "text/markdown": "FALSE",
            "text/html": [
              "FALSE"
            ]
          },
          "metadata": {}
        }
      ]
    },
    {
      "cell_type": "code",
      "metadata": {
        "colab": {
          "base_uri": "https://localhost:8080/",
          "height": 35
        },
        "id": "gj_QADbr_7Sd",
        "outputId": "6f393bbb-1d9d-4564-8818-8a5b3a768ad8"
      },
      "source": [
        "4+3==2+5"
      ],
      "execution_count": null,
      "outputs": [
        {
          "output_type": "display_data",
          "data": {
            "text/plain": [
              "[1] TRUE"
            ],
            "text/latex": "TRUE",
            "text/markdown": "TRUE",
            "text/html": [
              "TRUE"
            ]
          },
          "metadata": {}
        }
      ]
    },
    {
      "cell_type": "code",
      "metadata": {
        "colab": {
          "base_uri": "https://localhost:8080/",
          "height": 35
        },
        "id": "kDrT5qfA_7We",
        "outputId": "bad91224-aef6-4845-c2c6-734f173fa462"
      },
      "source": [
        "3>7"
      ],
      "execution_count": null,
      "outputs": [
        {
          "output_type": "display_data",
          "data": {
            "text/plain": [
              "[1] FALSE"
            ],
            "text/latex": "FALSE",
            "text/markdown": "FALSE",
            "text/html": [
              "FALSE"
            ]
          },
          "metadata": {}
        }
      ]
    },
    {
      "cell_type": "code",
      "metadata": {
        "colab": {
          "base_uri": "https://localhost:8080/",
          "height": 35
        },
        "id": "8LkjVBK1_7Yf",
        "outputId": "7c76e5da-835e-487a-b11a-c4ed553f6fd1"
      },
      "source": [
        "8<=78"
      ],
      "execution_count": null,
      "outputs": [
        {
          "output_type": "display_data",
          "data": {
            "text/plain": [
              "[1] TRUE"
            ],
            "text/latex": "TRUE",
            "text/markdown": "TRUE",
            "text/html": [
              "TRUE"
            ]
          },
          "metadata": {}
        }
      ]
    },
    {
      "cell_type": "code",
      "metadata": {
        "colab": {
          "base_uri": "https://localhost:8080/",
          "height": 35
        },
        "id": "qJTZSTAxAFYK",
        "outputId": "1d7ad3c4-ea45-4dab-e704-d1363a5cbd22"
      },
      "source": [
        "1!=5"
      ],
      "execution_count": null,
      "outputs": [
        {
          "output_type": "display_data",
          "data": {
            "text/plain": [
              "[1] TRUE"
            ],
            "text/latex": "TRUE",
            "text/markdown": "TRUE",
            "text/html": [
              "TRUE"
            ]
          },
          "metadata": {}
        }
      ]
    },
    {
      "cell_type": "code",
      "metadata": {
        "colab": {
          "base_uri": "https://localhost:8080/",
          "height": 35
        },
        "id": "JQ4ljBtPAFbU",
        "outputId": "6ac8f226-b805-4711-a2e0-cd453278b6e6"
      },
      "source": [
        "(2+3==7)&(1<=5)"
      ],
      "execution_count": null,
      "outputs": [
        {
          "output_type": "display_data",
          "data": {
            "text/plain": [
              "[1] FALSE"
            ],
            "text/latex": "FALSE",
            "text/markdown": "FALSE",
            "text/html": [
              "FALSE"
            ]
          },
          "metadata": {}
        }
      ]
    },
    {
      "cell_type": "code",
      "metadata": {
        "colab": {
          "base_uri": "https://localhost:8080/",
          "height": 35
        },
        "id": "1wKHX4CCAFea",
        "outputId": "fd3061b3-f134-4ce2-bcb8-0e0fdd36c545"
      },
      "source": [
        "(2+3==7)|(1<=5)"
      ],
      "execution_count": null,
      "outputs": [
        {
          "output_type": "display_data",
          "data": {
            "text/plain": [
              "[1] TRUE"
            ],
            "text/latex": "TRUE",
            "text/markdown": "TRUE",
            "text/html": [
              "TRUE"
            ]
          },
          "metadata": {}
        }
      ]
    },
    {
      "cell_type": "markdown",
      "metadata": {
        "id": "sCAFd3dyHmyh"
      },
      "source": [
        "***\n",
        "Práctica\n",
        "\n",
        "2^2 es igual a 8-4"
      ]
    },
    {
      "cell_type": "code",
      "metadata": {
        "id": "eGTjrl9sHpHR",
        "colab": {
          "base_uri": "https://localhost:8080/",
          "height": 34
        },
        "outputId": "375ad553-0891-4518-c1c5-d8b76562be0f"
      },
      "source": [
        "2^2==8-4"
      ],
      "execution_count": 19,
      "outputs": [
        {
          "output_type": "display_data",
          "data": {
            "text/html": [
              "TRUE"
            ],
            "text/markdown": "TRUE",
            "text/latex": "TRUE",
            "text/plain": [
              "[1] TRUE"
            ]
          },
          "metadata": {}
        }
      ]
    },
    {
      "cell_type": "markdown",
      "metadata": {
        "id": "j_pIynojAcZK"
      },
      "source": [
        "## **Funciones matemáticas**"
      ]
    },
    {
      "cell_type": "code",
      "metadata": {
        "colab": {
          "base_uri": "https://localhost:8080/",
          "height": 35
        },
        "id": "FKBGXjzzAFhK",
        "outputId": "4bcecae1-0d32-4d55-b678-526ae3a1dd54"
      },
      "source": [
        "sin(pi)"
      ],
      "execution_count": null,
      "outputs": [
        {
          "output_type": "display_data",
          "data": {
            "text/plain": [
              "[1] 1.224647e-16"
            ],
            "text/latex": "1.22464679914735e-16",
            "text/markdown": "1.22464679914735e-16",
            "text/html": [
              "1.22464679914735e-16"
            ]
          },
          "metadata": {}
        }
      ]
    },
    {
      "cell_type": "code",
      "metadata": {
        "colab": {
          "base_uri": "https://localhost:8080/",
          "height": 35
        },
        "id": "Cp_W6LpuAFkD",
        "outputId": "1661cf08-ccd5-49e2-d77d-9a7990e41c45"
      },
      "source": [
        "exp(2)"
      ],
      "execution_count": null,
      "outputs": [
        {
          "output_type": "display_data",
          "data": {
            "text/plain": [
              "[1] 7.389056"
            ],
            "text/latex": "7.38905609893065",
            "text/markdown": "7.38905609893065",
            "text/html": [
              "7.38905609893065"
            ]
          },
          "metadata": {}
        }
      ]
    },
    {
      "cell_type": "code",
      "metadata": {
        "colab": {
          "base_uri": "https://localhost:8080/",
          "height": 35
        },
        "id": "k82-mHEmA3lL",
        "outputId": "6b8102b8-fafe-4a0c-8706-6ec7802e9938"
      },
      "source": [
        "log(5)"
      ],
      "execution_count": null,
      "outputs": [
        {
          "output_type": "display_data",
          "data": {
            "text/plain": [
              "[1] 1.609438"
            ],
            "text/latex": "1.6094379124341",
            "text/markdown": "1.6094379124341",
            "text/html": [
              "1.6094379124341"
            ]
          },
          "metadata": {}
        }
      ]
    },
    {
      "cell_type": "code",
      "metadata": {
        "colab": {
          "base_uri": "https://localhost:8080/",
          "height": 35
        },
        "id": "PRPGuu1BA3os",
        "outputId": "2a4b2e7a-3a50-4481-cca3-75a3def0138d"
      },
      "source": [
        "abs(-8)"
      ],
      "execution_count": null,
      "outputs": [
        {
          "output_type": "display_data",
          "data": {
            "text/plain": [
              "[1] 8"
            ],
            "text/latex": "8",
            "text/markdown": "8",
            "text/html": [
              "8"
            ]
          },
          "metadata": {}
        }
      ]
    },
    {
      "cell_type": "code",
      "metadata": {
        "colab": {
          "base_uri": "https://localhost:8080/",
          "height": 35
        },
        "id": "ahUICOO4A3r1",
        "outputId": "796aae10-400a-4801-d6ef-0faee149dfc6"
      },
      "source": [
        "log10(5)"
      ],
      "execution_count": null,
      "outputs": [
        {
          "output_type": "display_data",
          "data": {
            "text/plain": [
              "[1] 0.69897"
            ],
            "text/latex": "0.698970004336019",
            "text/markdown": "0.698970004336019",
            "text/html": [
              "0.698970004336019"
            ]
          },
          "metadata": {}
        }
      ]
    },
    {
      "cell_type": "markdown",
      "metadata": {
        "id": "fEbAa6-8HrKw"
      },
      "source": [
        "***\n",
        "Práctica\n",
        "\n",
        "Hallar Cos(pi)"
      ]
    },
    {
      "cell_type": "code",
      "metadata": {
        "id": "mbR1r3JBHs1m",
        "colab": {
          "base_uri": "https://localhost:8080/",
          "height": 34
        },
        "outputId": "4bd7b595-a6ec-4af3-f389-edd6df27aa85"
      },
      "source": [
        "cos(3*pi)"
      ],
      "execution_count": 2,
      "outputs": [
        {
          "output_type": "display_data",
          "data": {
            "text/html": [
              "-1"
            ],
            "text/markdown": "-1",
            "text/latex": "-1",
            "text/plain": [
              "[1] -1"
            ]
          },
          "metadata": {}
        }
      ]
    },
    {
      "cell_type": "markdown",
      "metadata": {
        "id": "kO1BIRl9BDQK"
      },
      "source": [
        "## **Tipos de variable**\n",
        "\n",
        "* Variables numéricas\n",
        "* Variables de cadena\n",
        "* Variables tipo matriz\n",
        "\n",
        "\n"
      ]
    },
    {
      "cell_type": "markdown",
      "metadata": {
        "id": "7Cqn3H3kBZYb"
      },
      "source": [
        "## **Variables numéricas**"
      ]
    },
    {
      "cell_type": "code",
      "metadata": {
        "id": "AEIjzjkRFwkN",
        "colab": {
          "base_uri": "https://localhost:8080/",
          "height": 35
        },
        "outputId": "ca5677e0-0bbd-4171-9d62-869db48ec220"
      },
      "source": [
        "x=3\n",
        "x"
      ],
      "execution_count": null,
      "outputs": [
        {
          "output_type": "display_data",
          "data": {
            "text/plain": [
              "[1] 3"
            ],
            "text/latex": "3",
            "text/markdown": "3",
            "text/html": [
              "3"
            ]
          },
          "metadata": {}
        }
      ]
    },
    {
      "cell_type": "code",
      "metadata": {
        "id": "HoghiT-gF9sz",
        "colab": {
          "base_uri": "https://localhost:8080/"
        },
        "outputId": "000e1700-580d-44be-ec8b-9b4c41f24ab0"
      },
      "source": [
        "print(x)"
      ],
      "execution_count": null,
      "outputs": [
        {
          "output_type": "stream",
          "name": "stdout",
          "text": [
            "[1] 3\n"
          ]
        }
      ]
    },
    {
      "cell_type": "code",
      "metadata": {
        "id": "ZT0qk7NcGEx6",
        "colab": {
          "base_uri": "https://localhost:8080/",
          "height": 35
        },
        "outputId": "720f1d38-1898-42ba-88dc-4d21a681c9f2"
      },
      "source": [
        "y=x+8\n",
        "y"
      ],
      "execution_count": null,
      "outputs": [
        {
          "output_type": "display_data",
          "data": {
            "text/plain": [
              "[1] 11"
            ],
            "text/latex": "11",
            "text/markdown": "11",
            "text/html": [
              "11"
            ]
          },
          "metadata": {}
        }
      ]
    },
    {
      "cell_type": "code",
      "metadata": {
        "id": "TQkbi2lWGLgK",
        "colab": {
          "base_uri": "https://localhost:8080/",
          "height": 35
        },
        "outputId": "dfc6e330-505f-487f-dc3a-2cd268f259ee"
      },
      "source": [
        "(y=x+6)"
      ],
      "execution_count": null,
      "outputs": [
        {
          "output_type": "display_data",
          "data": {
            "text/plain": [
              "[1] 9"
            ],
            "text/latex": "9",
            "text/markdown": "9",
            "text/html": [
              "9"
            ]
          },
          "metadata": {}
        }
      ]
    },
    {
      "cell_type": "markdown",
      "metadata": {
        "id": "D7TV6_gzHuHR"
      },
      "source": [
        "***\n",
        "Práctica\n",
        "\n",
        "Ingresar x=-6 y hallar y=3x-8"
      ]
    },
    {
      "cell_type": "code",
      "metadata": {
        "id": "gzDAXLexHvt7",
        "colab": {
          "base_uri": "https://localhost:8080/",
          "height": 34
        },
        "outputId": "5c72203a-c803-4e55-8834-d0347dc84ed9"
      },
      "source": [
        "x=-6\n",
        "y=3*x-8\n",
        "y"
      ],
      "execution_count": 23,
      "outputs": [
        {
          "output_type": "display_data",
          "data": {
            "text/html": [
              "-26"
            ],
            "text/markdown": "-26",
            "text/latex": "-26",
            "text/plain": [
              "[1] -26"
            ]
          },
          "metadata": {}
        }
      ]
    },
    {
      "cell_type": "markdown",
      "metadata": {
        "id": "bywl1c6dBor7"
      },
      "source": [
        "## **Variables de cadena**"
      ]
    },
    {
      "cell_type": "code",
      "metadata": {
        "id": "tpmWpjZnGYyK",
        "colab": {
          "base_uri": "https://localhost:8080/",
          "height": 35
        },
        "outputId": "a5e874fa-005c-4ec2-8da1-c584ab321ecd"
      },
      "source": [
        "a='alumno'\n",
        "a"
      ],
      "execution_count": null,
      "outputs": [
        {
          "output_type": "display_data",
          "data": {
            "text/plain": [
              "[1] \"alumno\""
            ],
            "text/latex": "'alumno'",
            "text/markdown": "'alumno'",
            "text/html": [
              "'alumno'"
            ]
          },
          "metadata": {
            "tags": []
          }
        }
      ]
    },
    {
      "cell_type": "code",
      "metadata": {
        "id": "-fJQkWPNGgZU",
        "colab": {
          "base_uri": "https://localhost:8080/",
          "height": 35
        },
        "outputId": "c9cf591f-e25e-4d9b-ae5c-04bf4cbff4c6"
      },
      "source": [
        "b=\"valor\"\n",
        "b"
      ],
      "execution_count": null,
      "outputs": [
        {
          "output_type": "display_data",
          "data": {
            "text/plain": [
              "[1] \"valor\""
            ],
            "text/latex": "'valor'",
            "text/markdown": "'valor'",
            "text/html": [
              "'valor'"
            ]
          },
          "metadata": {
            "tags": []
          }
        }
      ]
    },
    {
      "cell_type": "code",
      "metadata": {
        "colab": {
          "base_uri": "https://localhost:8080/",
          "height": 35
        },
        "id": "RK0hDpnfB_Hx",
        "outputId": "01a7ddfa-9a67-4f45-d875-cfebb8329d38"
      },
      "source": [
        "c=\"grado de instrucción\"\n",
        "c"
      ],
      "execution_count": null,
      "outputs": [
        {
          "output_type": "display_data",
          "data": {
            "text/plain": [
              "[1] \"grado de instrucción\""
            ],
            "text/latex": "'grado de instrucción'",
            "text/markdown": "'grado de instrucción'",
            "text/html": [
              "'grado de instrucción'"
            ]
          },
          "metadata": {}
        }
      ]
    },
    {
      "cell_type": "markdown",
      "metadata": {
        "id": "63Q8ZihLHxZx"
      },
      "source": [
        "***\n",
        "Práctica\n",
        "\n",
        "Ingresae c=edad"
      ]
    },
    {
      "cell_type": "code",
      "metadata": {
        "id": "Y3utemPpHyfY",
        "colab": {
          "base_uri": "https://localhost:8080/",
          "height": 34
        },
        "outputId": "6c9cb232-319c-4102-97c7-0bf0583cb0ea"
      },
      "source": [
        "c='edad'\n",
        "c"
      ],
      "execution_count": 11,
      "outputs": [
        {
          "output_type": "display_data",
          "data": {
            "text/html": [
              "'edad'"
            ],
            "text/markdown": "'edad'",
            "text/latex": "'edad'",
            "text/plain": [
              "[1] \"edad\""
            ]
          },
          "metadata": {}
        }
      ]
    },
    {
      "cell_type": "markdown",
      "metadata": {
        "id": "qyMs8NaoCFZZ"
      },
      "source": [
        "## **Variables tipo matriz fila**\n",
        "\n",
        "Se asignan los valores mediante la función de concatenación \n",
        "\n",
        "$$c(valor1,valor2,...,valork)$$\n"
      ]
    },
    {
      "cell_type": "markdown",
      "metadata": {
        "id": "TpHdoWdZCkJa"
      },
      "source": [
        "**Ejemplos**"
      ]
    },
    {
      "cell_type": "code",
      "metadata": {
        "id": "aHhF0WXaGpBq",
        "colab": {
          "base_uri": "https://localhost:8080/",
          "height": 35
        },
        "outputId": "6d0fb4a7-635c-4cc0-a5b1-37730f967b54"
      },
      "source": [
        "notas1=c(11,12,17)\n",
        "notas2=c(15,13)\n",
        "notas=c(notas1,notas2)\n",
        "notas"
      ],
      "execution_count": null,
      "outputs": [
        {
          "output_type": "display_data",
          "data": {
            "text/plain": [
              "[1] 11 12 17 15 13"
            ],
            "text/latex": "\\begin{enumerate*}\n\\item 11\n\\item 12\n\\item 17\n\\item 15\n\\item 13\n\\end{enumerate*}\n",
            "text/markdown": "1. 11\n2. 12\n3. 17\n4. 15\n5. 13\n\n\n",
            "text/html": [
              "<style>\n",
              ".list-inline {list-style: none; margin:0; padding: 0}\n",
              ".list-inline>li {display: inline-block}\n",
              ".list-inline>li:not(:last-child)::after {content: \"\\00b7\"; padding: 0 .5ex}\n",
              "</style>\n",
              "<ol class=list-inline><li>11</li><li>12</li><li>17</li><li>15</li><li>13</li></ol>\n"
            ]
          },
          "metadata": {}
        }
      ]
    },
    {
      "cell_type": "markdown",
      "metadata": {
        "id": "MPJwyrZBH0Mx"
      },
      "source": [
        "***\n",
        "Práctica\n",
        "\n",
        "Ingresar en forma de fila los datos 13,15,16,16,17 a la variable edad"
      ]
    },
    {
      "cell_type": "code",
      "metadata": {
        "id": "tU62jTfFH2F5",
        "colab": {
          "base_uri": "https://localhost:8080/",
          "height": 34
        },
        "outputId": "67882324-68db-4cfe-ae8b-0a74b830ff25"
      },
      "source": [
        "edad=c(13,15,16,16,17)\n",
        "edad"
      ],
      "execution_count": 14,
      "outputs": [
        {
          "output_type": "display_data",
          "data": {
            "text/html": [
              "<style>\n",
              ".list-inline {list-style: none; margin:0; padding: 0}\n",
              ".list-inline>li {display: inline-block}\n",
              ".list-inline>li:not(:last-child)::after {content: \"\\00b7\"; padding: 0 .5ex}\n",
              "</style>\n",
              "<ol class=list-inline><li>13</li><li>15</li><li>16</li><li>16</li><li>17</li></ol>\n"
            ],
            "text/markdown": "1. 13\n2. 15\n3. 16\n4. 16\n5. 17\n\n\n",
            "text/latex": "\\begin{enumerate*}\n\\item 13\n\\item 15\n\\item 16\n\\item 16\n\\item 17\n\\end{enumerate*}\n",
            "text/plain": [
              "[1] 13 15 16 16 17"
            ]
          },
          "metadata": {}
        }
      ]
    },
    {
      "cell_type": "markdown",
      "metadata": {
        "id": "xIa8Rj_yC16-"
      },
      "source": [
        "## **Operaciones con vectores**"
      ]
    },
    {
      "cell_type": "code",
      "metadata": {
        "id": "aLoRBHCAH2Nb",
        "colab": {
          "base_uri": "https://localhost:8080/",
          "height": 35
        },
        "outputId": "7680bcd9-da8e-4248-f637-5450b1adf310"
      },
      "source": [
        "pesos1=c(22,23,25)\n",
        "pesos2=c(24,28,21)\n",
        "pesos1+pesos2"
      ],
      "execution_count": null,
      "outputs": [
        {
          "output_type": "display_data",
          "data": {
            "text/plain": [
              "[1] 46 51 46"
            ],
            "text/latex": "\\begin{enumerate*}\n\\item 46\n\\item 51\n\\item 46\n\\end{enumerate*}\n",
            "text/markdown": "1. 46\n2. 51\n3. 46\n\n\n",
            "text/html": [
              "<style>\n",
              ".list-inline {list-style: none; margin:0; padding: 0}\n",
              ".list-inline>li {display: inline-block}\n",
              ".list-inline>li:not(:last-child)::after {content: \"\\00b7\"; padding: 0 .5ex}\n",
              "</style>\n",
              "<ol class=list-inline><li>46</li><li>51</li><li>46</li></ol>\n"
            ]
          },
          "metadata": {}
        }
      ]
    },
    {
      "cell_type": "code",
      "metadata": {
        "id": "yYEU3u3ZIcQI",
        "colab": {
          "base_uri": "https://localhost:8080/",
          "height": 35
        },
        "outputId": "130cc3cb-5207-4577-da28-b5409990ba61"
      },
      "source": [
        "pesos1*pesos2"
      ],
      "execution_count": null,
      "outputs": [
        {
          "output_type": "display_data",
          "data": {
            "text/plain": [
              "[1] 528 644 525"
            ],
            "text/latex": "\\begin{enumerate*}\n\\item 528\n\\item 644\n\\item 525\n\\end{enumerate*}\n",
            "text/markdown": "1. 528\n2. 644\n3. 525\n\n\n",
            "text/html": [
              "<style>\n",
              ".list-inline {list-style: none; margin:0; padding: 0}\n",
              ".list-inline>li {display: inline-block}\n",
              ".list-inline>li:not(:last-child)::after {content: \"\\00b7\"; padding: 0 .5ex}\n",
              "</style>\n",
              "<ol class=list-inline><li>528</li><li>644</li><li>525</li></ol>\n"
            ]
          },
          "metadata": {}
        }
      ]
    },
    {
      "cell_type": "code",
      "metadata": {
        "colab": {
          "base_uri": "https://localhost:8080/",
          "height": 35
        },
        "id": "b-1E8dQuC-Q4",
        "outputId": "85ef9578-e0fa-4140-fa87-1efd59ddff84"
      },
      "source": [
        "pesos1^2"
      ],
      "execution_count": null,
      "outputs": [
        {
          "output_type": "display_data",
          "data": {
            "text/plain": [
              "[1] 484 529 625"
            ],
            "text/latex": "\\begin{enumerate*}\n\\item 484\n\\item 529\n\\item 625\n\\end{enumerate*}\n",
            "text/markdown": "1. 484\n2. 529\n3. 625\n\n\n",
            "text/html": [
              "<style>\n",
              ".list-inline {list-style: none; margin:0; padding: 0}\n",
              ".list-inline>li {display: inline-block}\n",
              ".list-inline>li:not(:last-child)::after {content: \"\\00b7\"; padding: 0 .5ex}\n",
              "</style>\n",
              "<ol class=list-inline><li>484</li><li>529</li><li>625</li></ol>\n"
            ]
          },
          "metadata": {}
        }
      ]
    },
    {
      "cell_type": "code",
      "metadata": {
        "colab": {
          "base_uri": "https://localhost:8080/",
          "height": 35
        },
        "id": "5nl6-j7rDEsh",
        "outputId": "fe9d0167-a495-4785-ba18-4bda5cea3db8"
      },
      "source": [
        "pesos1+10"
      ],
      "execution_count": null,
      "outputs": [
        {
          "output_type": "display_data",
          "data": {
            "text/plain": [
              "[1] 32 33 35"
            ],
            "text/latex": "\\begin{enumerate*}\n\\item 32\n\\item 33\n\\item 35\n\\end{enumerate*}\n",
            "text/markdown": "1. 32\n2. 33\n3. 35\n\n\n",
            "text/html": [
              "<style>\n",
              ".list-inline {list-style: none; margin:0; padding: 0}\n",
              ".list-inline>li {display: inline-block}\n",
              ".list-inline>li:not(:last-child)::after {content: \"\\00b7\"; padding: 0 .5ex}\n",
              "</style>\n",
              "<ol class=list-inline><li>32</li><li>33</li><li>35</li></ol>\n"
            ]
          },
          "metadata": {}
        }
      ]
    },
    {
      "cell_type": "code",
      "metadata": {
        "id": "vsITPAZHJtzt",
        "colab": {
          "base_uri": "https://localhost:8080/",
          "height": 35
        },
        "outputId": "3a36f02f-088a-450b-d33b-f1b43f59230c"
      },
      "source": [
        "x=sqrt(pesos1)\n",
        "x"
      ],
      "execution_count": null,
      "outputs": [
        {
          "output_type": "display_data",
          "data": {
            "text/plain": [
              "[1] 4.690416 4.795832 5.000000"
            ],
            "text/latex": "\\begin{enumerate*}\n\\item 4.69041575982343\n\\item 4.79583152331272\n\\item 5\n\\end{enumerate*}\n",
            "text/markdown": "1. 4.69041575982343\n2. 4.79583152331272\n3. 5\n\n\n",
            "text/html": [
              "<style>\n",
              ".list-inline {list-style: none; margin:0; padding: 0}\n",
              ".list-inline>li {display: inline-block}\n",
              ".list-inline>li:not(:last-child)::after {content: \"\\00b7\"; padding: 0 .5ex}\n",
              "</style>\n",
              "<ol class=list-inline><li>4.69041575982343</li><li>4.79583152331272</li><li>5</li></ol>\n"
            ]
          },
          "metadata": {
            "tags": []
          }
        }
      ]
    },
    {
      "cell_type": "markdown",
      "metadata": {
        "id": "SPEXyM_YH4MA"
      },
      "source": [
        "***\n",
        "Práctica\n",
        "\n",
        "Hallar la variable edad ^2"
      ]
    },
    {
      "cell_type": "code",
      "metadata": {
        "id": "WYM6kowGH6me",
        "colab": {
          "base_uri": "https://localhost:8080/",
          "height": 34
        },
        "outputId": "dc271143-9155-42f0-f58e-c4cf5113f840"
      },
      "source": [
        "edad^2"
      ],
      "execution_count": 15,
      "outputs": [
        {
          "output_type": "display_data",
          "data": {
            "text/html": [
              "<style>\n",
              ".list-inline {list-style: none; margin:0; padding: 0}\n",
              ".list-inline>li {display: inline-block}\n",
              ".list-inline>li:not(:last-child)::after {content: \"\\00b7\"; padding: 0 .5ex}\n",
              "</style>\n",
              "<ol class=list-inline><li>169</li><li>225</li><li>256</li><li>256</li><li>289</li></ol>\n"
            ],
            "text/markdown": "1. 169\n2. 225\n3. 256\n4. 256\n5. 289\n\n\n",
            "text/latex": "\\begin{enumerate*}\n\\item 169\n\\item 225\n\\item 256\n\\item 256\n\\item 289\n\\end{enumerate*}\n",
            "text/plain": [
              "[1] 169 225 256 256 289"
            ]
          },
          "metadata": {}
        }
      ]
    },
    {
      "cell_type": "markdown",
      "metadata": {
        "id": "G-b1KFmWDLQg"
      },
      "source": [
        "## **Creación de vectores**"
      ]
    },
    {
      "cell_type": "code",
      "metadata": {
        "id": "QQUbYja8Kb8j",
        "colab": {
          "base_uri": "https://localhost:8080/",
          "height": 35
        },
        "outputId": "07cabcf7-4196-4406-b95d-8ea46f048645"
      },
      "source": [
        "(x=2:15)"
      ],
      "execution_count": null,
      "outputs": [
        {
          "output_type": "display_data",
          "data": {
            "text/plain": [
              " [1]  2  3  4  5  6  7  8  9 10 11 12 13 14 15"
            ],
            "text/latex": "\\begin{enumerate*}\n\\item 2\n\\item 3\n\\item 4\n\\item 5\n\\item 6\n\\item 7\n\\item 8\n\\item 9\n\\item 10\n\\item 11\n\\item 12\n\\item 13\n\\item 14\n\\item 15\n\\end{enumerate*}\n",
            "text/markdown": "1. 2\n2. 3\n3. 4\n4. 5\n5. 6\n6. 7\n7. 8\n8. 9\n9. 10\n10. 11\n11. 12\n12. 13\n13. 14\n14. 15\n\n\n",
            "text/html": [
              "<style>\n",
              ".list-inline {list-style: none; margin:0; padding: 0}\n",
              ".list-inline>li {display: inline-block}\n",
              ".list-inline>li:not(:last-child)::after {content: \"\\00b7\"; padding: 0 .5ex}\n",
              "</style>\n",
              "<ol class=list-inline><li>2</li><li>3</li><li>4</li><li>5</li><li>6</li><li>7</li><li>8</li><li>9</li><li>10</li><li>11</li><li>12</li><li>13</li><li>14</li><li>15</li></ol>\n"
            ]
          },
          "metadata": {
            "tags": []
          }
        }
      ]
    },
    {
      "cell_type": "code",
      "metadata": {
        "id": "RMGTVw8FKt4E",
        "colab": {
          "base_uri": "https://localhost:8080/",
          "height": 35
        },
        "outputId": "dbecda5a-3037-44cd-9265-30f70863466a"
      },
      "source": [
        "x=seq(from=2,to=15,by=3)\n",
        "x"
      ],
      "execution_count": null,
      "outputs": [
        {
          "output_type": "display_data",
          "data": {
            "text/plain": [
              "[1]  2  5  8 11 14"
            ],
            "text/latex": "\\begin{enumerate*}\n\\item 2\n\\item 5\n\\item 8\n\\item 11\n\\item 14\n\\end{enumerate*}\n",
            "text/markdown": "1. 2\n2. 5\n3. 8\n4. 11\n5. 14\n\n\n",
            "text/html": [
              "<style>\n",
              ".list-inline {list-style: none; margin:0; padding: 0}\n",
              ".list-inline>li {display: inline-block}\n",
              ".list-inline>li:not(:last-child)::after {content: \"\\00b7\"; padding: 0 .5ex}\n",
              "</style>\n",
              "<ol class=list-inline><li>2</li><li>5</li><li>8</li><li>11</li><li>14</li></ol>\n"
            ]
          },
          "metadata": {
            "tags": []
          }
        }
      ]
    },
    {
      "cell_type": "code",
      "metadata": {
        "id": "ucadHR-2K9Gs",
        "colab": {
          "base_uri": "https://localhost:8080/",
          "height": 35
        },
        "outputId": "6b2bf6b2-975d-499d-ddbe-07e1b3fe6e07"
      },
      "source": [
        "y=seq(5,28,2)\n",
        "y"
      ],
      "execution_count": null,
      "outputs": [
        {
          "output_type": "display_data",
          "data": {
            "text/plain": [
              " [1]  5  7  9 11 13 15 17 19 21 23 25 27"
            ],
            "text/latex": "\\begin{enumerate*}\n\\item 5\n\\item 7\n\\item 9\n\\item 11\n\\item 13\n\\item 15\n\\item 17\n\\item 19\n\\item 21\n\\item 23\n\\item 25\n\\item 27\n\\end{enumerate*}\n",
            "text/markdown": "1. 5\n2. 7\n3. 9\n4. 11\n5. 13\n6. 15\n7. 17\n8. 19\n9. 21\n10. 23\n11. 25\n12. 27\n\n\n",
            "text/html": [
              "<style>\n",
              ".list-inline {list-style: none; margin:0; padding: 0}\n",
              ".list-inline>li {display: inline-block}\n",
              ".list-inline>li:not(:last-child)::after {content: \"\\00b7\"; padding: 0 .5ex}\n",
              "</style>\n",
              "<ol class=list-inline><li>5</li><li>7</li><li>9</li><li>11</li><li>13</li><li>15</li><li>17</li><li>19</li><li>21</li><li>23</li><li>25</li><li>27</li></ol>\n"
            ]
          },
          "metadata": {
            "tags": []
          }
        }
      ]
    },
    {
      "cell_type": "markdown",
      "metadata": {
        "id": "BDcflM8BH8Io"
      },
      "source": [
        "***\n",
        "Práctica\n",
        "\n",
        "Crear una secuencia desde 12 hasta 55 que vaya de 3 en 3"
      ]
    },
    {
      "cell_type": "code",
      "metadata": {
        "id": "gmVoX8H9IAGr",
        "colab": {
          "base_uri": "https://localhost:8080/",
          "height": 34
        },
        "outputId": "f9a27df8-8463-4a49-9ab4-eb8a966e8c89"
      },
      "source": [
        "z=seq(from=12,to=55,by=3)\n",
        "z"
      ],
      "execution_count": 17,
      "outputs": [
        {
          "output_type": "display_data",
          "data": {
            "text/html": [
              "<style>\n",
              ".list-inline {list-style: none; margin:0; padding: 0}\n",
              ".list-inline>li {display: inline-block}\n",
              ".list-inline>li:not(:last-child)::after {content: \"\\00b7\"; padding: 0 .5ex}\n",
              "</style>\n",
              "<ol class=list-inline><li>12</li><li>15</li><li>18</li><li>21</li><li>24</li><li>27</li><li>30</li><li>33</li><li>36</li><li>39</li><li>42</li><li>45</li><li>48</li><li>51</li><li>54</li></ol>\n"
            ],
            "text/markdown": "1. 12\n2. 15\n3. 18\n4. 21\n5. 24\n6. 27\n7. 30\n8. 33\n9. 36\n10. 39\n11. 42\n12. 45\n13. 48\n14. 51\n15. 54\n\n\n",
            "text/latex": "\\begin{enumerate*}\n\\item 12\n\\item 15\n\\item 18\n\\item 21\n\\item 24\n\\item 27\n\\item 30\n\\item 33\n\\item 36\n\\item 39\n\\item 42\n\\item 45\n\\item 48\n\\item 51\n\\item 54\n\\end{enumerate*}\n",
            "text/plain": [
              " [1] 12 15 18 21 24 27 30 33 36 39 42 45 48 51 54"
            ]
          },
          "metadata": {}
        }
      ]
    },
    {
      "cell_type": "markdown",
      "metadata": {
        "id": "k5upnyA7DVDj"
      },
      "source": [
        "## **Gráfica de una función**"
      ]
    },
    {
      "cell_type": "markdown",
      "metadata": {
        "id": "XD1kkhm7DqxC"
      },
      "source": [
        "**Ejemplo:** Graficar la función $f(x)=x^2$ en el intervalo $[-2;2]$"
      ]
    },
    {
      "cell_type": "code",
      "metadata": {
        "colab": {
          "base_uri": "https://localhost:8080/",
          "height": 437
        },
        "id": "ug2teokxDbJ5",
        "outputId": "83562be3-7138-4b39-8b64-fcee45fe0980"
      },
      "source": [
        "x=seq(-2,2,0.1)\n",
        "y=x^2\n",
        "plot(x,y,type='l')"
      ],
      "execution_count": null,
      "outputs": [
        {
          "output_type": "display_data",
          "data": {
            "image/png": "[encoded data removed]",
            "text/plain": [
              "plot without title"
            ]
          },
          "metadata": {
            "image/png": {
              "width": 420,
              "height": 420
            }
          }
        }
      ]
    },
    {
      "cell_type": "markdown",
      "metadata": {
        "id": "wXIRy6UPECih"
      },
      "source": [
        "**Ejemplo:** Graficar la función $f(x)=sin(x)sin(6x)$ en el intervalo $[-5;5]$"
      ]
    },
    {
      "cell_type": "code",
      "metadata": {
        "id": "cMqltSFBLkTs",
        "colab": {
          "base_uri": "https://localhost:8080/",
          "height": 437
        },
        "outputId": "5acadcbb-542c-4a2c-b051-2d47e085e29c"
      },
      "source": [
        "x=seq(-5,5,0.01)\n",
        "y=sin(x)*sin(6*x)\n",
        "plot(x,y,type='l',col='blue',lwd=2)\n",
        "grid()"
      ],
      "execution_count": null,
      "outputs": [
        {
          "output_type": "display_data",
          "data": {
            "image/png": "[encoded data removed]",
            "text/plain": [
              "plot without title"
            ]
          },
          "metadata": {
            "image/png": {
              "width": 420,
              "height": 420
            }
          }
        }
      ]
    },
    {
      "cell_type": "markdown",
      "metadata": {
        "id": "UyosN7MsIEBk"
      },
      "source": [
        "***\n",
        "Práctica\n",
        "\n",
        "Graficar la fucion f(x)=x^3 desde -3 hasta 3"
      ]
    },
    {
      "cell_type": "code",
      "metadata": {
        "id": "lI13XIUzIHQW",
        "colab": {
          "base_uri": "https://localhost:8080/",
          "height": 437
        },
        "outputId": "1713bd6d-e5cb-49c5-b1f1-7830679d69ce"
      },
      "source": [
        "x=seq(-3,3,0.01)\n",
        "y=x^3\n",
        "plot(x,y,type='l',col='red',lwd=2)\n",
        "grid()"
      ],
      "execution_count": 18,
      "outputs": [
        {
          "output_type": "display_data",
          "data": {
            "text/plain": [
              "plot without title"
            ],
            "image/png": "[encoded data removed]"
          },
          "metadata": {
            "image/png": {
              "width": 420,
              "height": 420
            }
          }
        }
      ]
    }
  ]
}